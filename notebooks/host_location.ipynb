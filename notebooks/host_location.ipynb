{
 "cells": [
  {
   "cell_type": "code",
   "execution_count": 1,
   "metadata": {
    "collapsed": true
   },
   "outputs": [],
   "source": [
    "import pandas as pd \n",
    "import numpy as np\n",
    "import matplotlib.pyplot as plt\n",
    "import seaborn as sns\n",
    "sns.set_style('whitegrid')\n",
    "%matplotlib inline"
   ]
  },
  {
   "cell_type": "code",
   "execution_count": 34,
   "metadata": {
    "collapsed": false
   },
   "outputs": [
    {
     "data": {
      "text/html": [
       "<div>\n",
       "<table border=\"1\" class=\"dataframe\">\n",
       "  <thead>\n",
       "    <tr style=\"text-align: right;\">\n",
       "      <th></th>\n",
       "      <th>id</th>\n",
       "      <th>listing_url</th>\n",
       "      <th>last_scraped</th>\n",
       "      <th>name</th>\n",
       "      <th>host_id</th>\n",
       "      <th>host_name</th>\n",
       "      <th>host_since</th>\n",
       "      <th>host_location</th>\n",
       "      <th>host_neighbourhood</th>\n",
       "      <th>host_identity_verified</th>\n",
       "      <th>...</th>\n",
       "      <th>bedrooms</th>\n",
       "      <th>beds</th>\n",
       "      <th>bed_type</th>\n",
       "      <th>amenities</th>\n",
       "      <th>square_feet</th>\n",
       "      <th>price</th>\n",
       "      <th>weekly_price</th>\n",
       "      <th>monthly_price</th>\n",
       "      <th>requires_license</th>\n",
       "      <th>license</th>\n",
       "    </tr>\n",
       "  </thead>\n",
       "  <tbody>\n",
       "    <tr>\n",
       "      <th>0</th>\n",
       "      <td>10159551</td>\n",
       "      <td>https://www.airbnb.com/rooms/10159551</td>\n",
       "      <td>2017-03-15</td>\n",
       "      <td>Modern house with pool in Colonia de Sant Pere</td>\n",
       "      <td>33963368</td>\n",
       "      <td>Carolina</td>\n",
       "      <td>2015-05-22</td>\n",
       "      <td>Mallorca</td>\n",
       "      <td>NaN</td>\n",
       "      <td>t</td>\n",
       "      <td>...</td>\n",
       "      <td>2.0</td>\n",
       "      <td>3.0</td>\n",
       "      <td>Real Bed</td>\n",
       "      <td>{TV,\"Cable TV\",\"Wireless Internet\",\"Air condit...</td>\n",
       "      <td>NaN</td>\n",
       "      <td>$132.00</td>\n",
       "      <td>NaN</td>\n",
       "      <td>NaN</td>\n",
       "      <td>t</td>\n",
       "      <td>NaN</td>\n",
       "    </tr>\n",
       "    <tr>\n",
       "      <th>1</th>\n",
       "      <td>13759671</td>\n",
       "      <td>https://www.airbnb.com/rooms/13759671</td>\n",
       "      <td>2017-03-15</td>\n",
       "      <td>Can Roig</td>\n",
       "      <td>80636743</td>\n",
       "      <td>Foravila</td>\n",
       "      <td>2016-06-29</td>\n",
       "      <td>Sa Pobla, Illes Balears, Spain</td>\n",
       "      <td>NaN</td>\n",
       "      <td>f</td>\n",
       "      <td>...</td>\n",
       "      <td>4.0</td>\n",
       "      <td>5.0</td>\n",
       "      <td>Real Bed</td>\n",
       "      <td>{TV,\"Cable TV\",Internet,\"Wireless Internet\",\"A...</td>\n",
       "      <td>NaN</td>\n",
       "      <td>$180.00</td>\n",
       "      <td>NaN</td>\n",
       "      <td>NaN</td>\n",
       "      <td>t</td>\n",
       "      <td>REG. 0000</td>\n",
       "    </tr>\n",
       "  </tbody>\n",
       "</table>\n",
       "<p>2 rows × 32 columns</p>\n",
       "</div>"
      ],
      "text/plain": [
       "         id                            listing_url last_scraped  \\\n",
       "0  10159551  https://www.airbnb.com/rooms/10159551   2017-03-15   \n",
       "1  13759671  https://www.airbnb.com/rooms/13759671   2017-03-15   \n",
       "\n",
       "                                             name   host_id host_name  \\\n",
       "0  Modern house with pool in Colonia de Sant Pere  33963368  Carolina   \n",
       "1                                        Can Roig  80636743  Foravila   \n",
       "\n",
       "   host_since                   host_location host_neighbourhood  \\\n",
       "0  2015-05-22                        Mallorca                NaN   \n",
       "1  2016-06-29  Sa Pobla, Illes Balears, Spain                NaN   \n",
       "\n",
       "  host_identity_verified    ...     bedrooms beds  bed_type  \\\n",
       "0                      t    ...          2.0  3.0  Real Bed   \n",
       "1                      f    ...          4.0  5.0  Real Bed   \n",
       "\n",
       "                                           amenities square_feet    price  \\\n",
       "0  {TV,\"Cable TV\",\"Wireless Internet\",\"Air condit...         NaN  $132.00   \n",
       "1  {TV,\"Cable TV\",Internet,\"Wireless Internet\",\"A...         NaN  $180.00   \n",
       "\n",
       "   weekly_price monthly_price requires_license    license  \n",
       "0           NaN           NaN                t        NaN  \n",
       "1           NaN           NaN                t  REG. 0000  \n",
       "\n",
       "[2 rows x 32 columns]"
      ]
     },
     "execution_count": 34,
     "metadata": {},
     "output_type": "execute_result"
    }
   ],
   "source": [
    "df = pd.read_csv('listings_clean.csv', encoding='utf8')\n",
    "df.head(2)"
   ]
  },
  {
   "cell_type": "code",
   "execution_count": 35,
   "metadata": {
    "collapsed": false
   },
   "outputs": [
    {
     "data": {
      "text/plain": [
       "Index([u'id', u'listing_url', u'last_scraped', u'name', u'host_id',\n",
       "       u'host_name', u'host_since', u'host_location', u'host_neighbourhood',\n",
       "       u'host_identity_verified', u'city', u'state', u'zipcode', u'market',\n",
       "       u'smart_location', u'latitude', u'longitude', u'is_location_exact',\n",
       "       u'property_type', u'room_type', u'accommodates', u'bathrooms',\n",
       "       u'bedrooms', u'beds', u'bed_type', u'amenities', u'square_feet',\n",
       "       u'price', u'weekly_price', u'monthly_price', u'requires_license',\n",
       "       u'license'],\n",
       "      dtype='object')"
      ]
     },
     "execution_count": 35,
     "metadata": {},
     "output_type": "execute_result"
    }
   ],
   "source": [
    "df.columns"
   ]
  },
  {
   "cell_type": "code",
   "execution_count": 36,
   "metadata": {
    "collapsed": false
   },
   "outputs": [],
   "source": [
    "host_loc=pd.Series(np.unique(df.host_location)).dropna()"
   ]
  },
  {
   "cell_type": "code",
   "execution_count": 37,
   "metadata": {
    "collapsed": false
   },
   "outputs": [],
   "source": [
    "host_loc=host_loc.str.split(',')"
   ]
  },
  {
   "cell_type": "code",
   "execution_count": 54,
   "metadata": {
    "collapsed": false
   },
   "outputs": [],
   "source": [
    "countries = pd.Series([ls[-1] for ls in host_loc])\n",
    "countries = countries.str.lstrip()"
   ]
  },
  {
   "cell_type": "code",
   "execution_count": 59,
   "metadata": {
    "collapsed": false,
    "scrolled": true
   },
   "outputs": [
    {
     "data": {
      "text/plain": [
       "Spain                               276\n",
       "Germany                             114\n",
       "United Kingdom                       63\n",
       "France                               38\n",
       "Switzerland                          22\n",
       "Italy                                15\n",
       "United States                        14\n",
       "Belgium                              10\n",
       "Sweden                               10\n",
       "Mallorca                              7\n",
       "Austria                               7\n",
       "Netherlands                           7\n",
       "Denmark                               6\n",
       "España                                6\n",
       "The Netherlands                       5\n",
       "Russia                                4\n",
       "Ireland                               4\n",
       "Brazil                                4\n",
       "Australia                             3\n",
       "South Africa                          3\n",
       "Portugal                              3\n",
       "UK                                    3\n",
       "spain                                 2\n",
       "ES                                    2\n",
       "Islas Baleares                        2\n",
       "United Arab Emirates                  2\n",
       "Venezuela                             2\n",
       "Canada                                2\n",
       "Cuba                                  2\n",
       "Croatia                               2\n",
       "                                   ... \n",
       "London and Mallorca                   1\n",
       "east mallorca                         1\n",
       "Vacation Rentals                      1\n",
       "US                                    1\n",
       "Майорке                               1\n",
       "en Mallorca (Colonia Sant Jordi)      1\n",
       "holanda                               1\n",
       "Mallorca / Spain                      1\n",
       "PALMA DE MALLORCA PMI                 1\n",
       "Spanien                               1\n",
       "SPANIEN                               1\n",
       "nº 15 Pollença                        1\n",
       "Mallorca. ES                          1\n",
       "Mallorca/Spain                        1\n",
       "Palma and England                     1\n",
       "Spain.                                1\n",
       "Mallorca.                             1\n",
       "Spain                                 1\n",
       "Mallorca                              1\n",
       "Stockholm                             1\n",
       "Deutschland                           1\n",
       "Spain 07640                           1\n",
       "2ºB                                   1\n",
       "CH                                    1\n",
       "palma di mallorca                     1\n",
       "Hong Kong                             1\n",
       "En Campanet                           1\n",
       "Puerto Rico                           1\n",
       "Chile                                 1\n",
       "Russian Federation                    1\n",
       "dtype: int64"
      ]
     },
     "execution_count": 59,
     "metadata": {},
     "output_type": "execute_result"
    }
   ],
   "source": [
    "countries.value_counts()"
   ]
  },
  {
   "cell_type": "code",
   "execution_count": null,
   "metadata": {
    "collapsed": true
   },
   "outputs": [],
   "source": []
  }
 ],
 "metadata": {
  "anaconda-cloud": {},
  "kernelspec": {
   "display_name": "Python [default]",
   "language": "python",
   "name": "python2"
  },
  "language_info": {
   "codemirror_mode": {
    "name": "ipython",
    "version": 2
   },
   "file_extension": ".py",
   "mimetype": "text/x-python",
   "name": "python",
   "nbconvert_exporter": "python",
   "pygments_lexer": "ipython2",
   "version": "2.7.12"
  }
 },
 "nbformat": 4,
 "nbformat_minor": 1
}
