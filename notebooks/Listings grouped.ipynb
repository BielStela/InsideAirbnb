{
 "cells": [
  {
   "cell_type": "code",
   "execution_count": 81,
   "metadata": {
    "collapsed": false
   },
   "outputs": [
    {
     "name": "stderr",
     "output_type": "stream",
     "text": [
      "/home/kalidus/anaconda3/lib/python3.5/site-packages/IPython/core/interactiveshell.py:2717: DtypeWarning: Columns (38) have mixed types. Specify dtype option on import or set low_memory=False.\n",
      "  interactivity=interactivity, compiler=compiler, result=result)\n"
     ]
    }
   ],
   "source": [
    "import pandas as pd\n",
    "date_cols = ['last_scraped','host_since','last_review','first_review','calendar_last_scraped']\n",
    "listings = pd.read_csv('data/listings.csv',parse_dates=date_cols).dropna(how='all',axis=1)\n",
    "\n"
   ]
  },
  {
   "cell_type": "code",
   "execution_count": 82,
   "metadata": {
    "collapsed": false
   },
   "outputs": [],
   "source": [
    "boolean_cols = ['require_guest_phone_verification','requires_license','host_has_profile_pic',\n",
    "          'host_identity_verified',\n",
    "          'require_guest_profile_picture',\n",
    "          'is_location_exact','instant_bookable']\n",
    "for c in boolean_cols:\n",
    "    listings.loc[:,c] = (listings[c]=='t').values"
   ]
  },
  {
   "cell_type": "code",
   "execution_count": 83,
   "metadata": {
    "collapsed": false
   },
   "outputs": [],
   "source": [
    "price_cols = ['price','weekly_price','monthly_price']\n",
    "for p in price_cols:\n",
    "    listings.loc[:,p] = listings[p].str.replace('$','')\n",
    "    listings.loc[:,p] = listings[p].str.replace(',','')\n",
    "    listings.loc[:,p] = pd.to_numeric(listings[p])"
   ]
  },
  {
   "cell_type": "code",
   "execution_count": 222,
   "metadata": {
    "collapsed": false,
    "scrolled": true
   },
   "outputs": [],
   "source": [
    "import numpy as np\n",
    "def fix_zipcode(x):\n",
    "    \n",
    "    if x.startswith('E-'):\n",
    "        x = x.lstrip('E-')\n",
    "    if '\\n' in x:\n",
    "        x = x.split('\\n')[0]\n",
    "    if x[0]=='7':\n",
    "        x = '0'+x\n",
    "    if x=='':\n",
    "        return np.nan\n",
    "    nx = x.replace(' ','')[:5]\n",
    "    if len(nx)==5:\n",
    "        try:\n",
    "            f = int(x.replace(' ','')[:5])\n",
    "            return nx\n",
    "        except:\n",
    "            return np.nan\n",
    "    else:\n",
    "        return np.nan\n",
    "listings['zipcode'] = listings.zipcode.fillna(' ').map(fix_zipcode)\n",
    "\n",
    "\n",
    "\n",
    "import unicodedata\n",
    "def strip_accents(s):\n",
    "    return ''.join(c for c in unicodedata.normalize('NFD', s)\n",
    "                  if unicodedata.category(c) != 'Mn')\n",
    "\n",
    "def fix_mallorca(x):\n",
    "    mall = ['majorque', 'majorqye', 'malllorca', 'mallorca', 'mallorca (illes balears)', 'maiorca', 'majorca','mallorca ' ]\n",
    "    for m in mall:\n",
    "        if m in x:\n",
    "            x = x.replace(m,'Mallorca')\n",
    "    return x.replace('(Mallorca)','').replace('(illes balears)','')\n",
    "\n",
    "def fix_location(x):\n",
    "    \n",
    "    x = x.lstrip(' ')\n",
    "    x = x.replace(\"'\",'').replace('`','').replace(\"´\",'').replace(\" ,\",',')\n",
    "    \n",
    "    x = fix_mallorca(x.lower())\n",
    "    y = strip_accents(x).split(',')[0].rstrip('  ').rstrip(' ')\n",
    "    return fix_regions(y)\n",
    "\n",
    "def fix_sant(x):\n",
    "    return x.replace(' de sant ',' sant ').replace(' de san ',' sant ').replace(' san ',' sant ')\n",
    "\n",
    "def fix_regions(x):\n",
    "    x = fix_sant(x)\n",
    "    match = lambda x,li: any([it==x for it in li])\n",
    "    caca = ['07310 campanet', '07330',  '07560', '07609', 'Mallorca', 'Mallorca island','пальма','baleares',\n",
    "     'balearic islands',]\n",
    "    bg = ['badia blava', 'badia de palma', 'badia gran',\n",
    "         'badia gran/bahia azul', 'bahia grande', 'bahia grande (badia gran)']\n",
    "    binisalem = ['binisalem', 'binissalem', 'binissalem-Mallorca do',]\n",
    "    cmillor = ['cal millor Mallorca spain','cala millor','cala millor -son servera',]\n",
    "    cdor =  'cala dor', 'cala dor - santanyi', 'cala dor-cala egos-portopetro','cala d or','santanyi / cala dor','santanyi cala egos'\n",
    "    csvic = 'cala sant vicenc', 'cala sant vicent', 'cala sant vicente','cala st vicenc','pollensa. cala sant vicenc. illes balears',\n",
    "    csantp = 'colonia sant pedro', 'colonia sant pere', 'colonia sant pere  (arta)',\n",
    "    pmuro = 'platges de muro', 'platja de muro', 'platjes de muro', 'playa de muro', 'playa de muro baleares', 'playas de muro',\n",
    "    x = x.replace('mendia','mandia').replace('vinyas','vinyes').replace('calas de ','cales de ').replace('picaford','picafort')\n",
    "    x = x.replace('la clama','la calma').replace('de los pinos','dels pins').replace('deya', 'deia').replace('esporlas','esporles')\n",
    "    x = x.replace('pollenca','pollensa').replace('pollenza','pollensa').replace('calla','cala')\n",
    "    alcudia = ['']\n",
    "    if match(x,caca):\n",
    "        return ' '\n",
    "    elif match(x,bg):\n",
    "        return 'bahia grande'\n",
    "    elif 'alcudia' in x:\n",
    "        return 'alcudia'\n",
    "    elif x=='andraxt':\n",
    "        return 'andratx'\n",
    "    elif 'arenal' in x:\n",
    "        return 'arenal'\n",
    "    elif x=='biniagual-binissalem-Mallorca':\n",
    "        return 'biniagual'\n",
    "    elif x=='binibona caimari':\n",
    "        return x.split(' ')[0]\n",
    "    elif match(x,binisalem):\n",
    "        return 'binissalem'\n",
    "    elif match(x,cmillor):\n",
    "        return 'cala millor'\n",
    "    elif match(x,cdor):\n",
    "        return \"cala d'or\"\n",
    "    elif match(x,csvic):\n",
    "        return 'cala sant vicenc'\n",
    "    elif match(x,pmuro):\n",
    "        return 'platja de muro'\n",
    "    elif match(x,csantp):\n",
    "        return 'colonia sant pere'\n",
    "    elif x=='bunola':\n",
    "        return 'bunyola'\n",
    "    elif 'cala figuera' in x:\n",
    "        return 'cala figuera'\n",
    "    elif 'cala major' in x:\n",
    "        return 'cala major'\n",
    "    elif 'cala anguila' in x:\n",
    "        return 'cala anguila'\n",
    "    elif 'cala serena' in x:\n",
    "        return 'cala serena'\n",
    "    elif 'calvia' in x:\n",
    "        return 'calvia'\n",
    "    elif 'rapita' in x:\n",
    "        return 'sa rapita'\n",
    "    elif 'campos' in x:\n",
    "        return 'campos'\n",
    "    elif 'galilea' in x:\n",
    "        return 'galilea'\n",
    "    elif 'porto colom' in x or 'portocolom' in x:\n",
    "        return 'portocolom'\n",
    "    elif 'porto petro' in x or 'portopetro' in x:\n",
    "        return 'portopetro'\n",
    "    elif 'porto cristo' in x or 'portocristo' in x or x=='porto de manacor':\n",
    "        return 'portocristo'\n",
    "    elif 'porreras' in x or 'porreres' in x:\n",
    "        return 'porreres'\n",
    "    elif 'portol' in x:\n",
    "        return 'portol'\n",
    "    else:\n",
    "        return x\n",
    "    \n",
    "def final_fix_regions(x):\n",
    "    x = fix_location(x).replace('  ',' ')\n",
    "    if x in ['canyamel', 'canyamel - capdepera']:\n",
    "        return 'canyamel'\n",
    "    elif x in ['capdepera', 'capdepera-cala rajada',]:\n",
    "        return 'capdepera'\n",
    "    elif x in ['felanitx', 'felanitx (es carritxo)', 'felantix',]:\n",
    "        return 'felanitx'\n",
    "    elif 'fornalutx' in x:\n",
    "        return 'fornalutx'\n",
    "    elif x in ['illetas', 'illetes']:\n",
    "        return 'illetes'\n",
    "    elif 'crestatx' in x:\n",
    "        return 'crestatx'\n",
    "    elif x in ['la puebla', 'la puebla (sa pobla)', 'sa pobla']:\n",
    "        return 'sa pobla'\n",
    "    elif 'sa torre' in x:\n",
    "        return 'sa torre'\n",
    "    elif x in ['santa margalida', 'santa margarida', 'santa margarita']:\n",
    "        return 'santa margalida'\n",
    "    elif x in ['son serra de marin', 'son serra de marina', 'son serra de marrina']:\n",
    "        return 'son serra de marina'\n",
    "    elif 'son talent' in x:\n",
    "        return 'son talent'\n",
    "    elif 'son veri' in x:\n",
    "        return 'son veri'\n",
    "    elif x in ['vallgonera- cala pi', 'vallgornera', 'vallgornera nou']:\n",
    "        return 'vallgornera'\n",
    "    elif x in ['vilafranca', 'vilafranca de bonany', 'villafranca de bonany']:\n",
    "        return 'vilafranca'\n",
    "    elif 'estanyol' in x:\n",
    "        return \"s'estanyol\"\n",
    "    elif x in ['valldemoos', 'valldemossa',]:\n",
    "        return 'valldemossa'\n",
    "    elif x in ['santa ponca', 'santa ponsa', 'santa ponsa ( Mallorca)']:\n",
    "        return 'santa ponsa'\n",
    "    elif x in ['lloret', 'lloret de vista alegre', 'lloret de vistalegre',]:\n",
    "        return 'lloret'\n",
    "    elif x in ['lluchmajor', 'lluchmayor', 'llucmajor', 'llucmayor']:  \n",
    "        return 'llucmajor'\n",
    "    elif x in ['manacor - cales de Mallorca',  'manacor - cals de Mallorca']:\n",
    "        return 'cales de mallorca'\n",
    "    elif x in ['manacor - sespinagar',  'manacor espinagar',]:\n",
    "        return 'manacor'\n",
    "    elif x in ['palma', 'palma Mallorca', 'palma de Mallorca', 'palma di Mallorca', 'palma nova', 'palma/marratxi', 'palmade Mallorca']:\n",
    "        return 'palma'\n",
    "    elif x in ['alcanada','aucanada']:\n",
    "        return 'alcanada'\n",
    "    \n",
    "    else:\n",
    "        return x\n",
    "\n",
    "listings['smart_location'] = listings['smart_location'].map(final_fix_regions)\n",
    "\n",
    "\n",
    "ones = listings['smart_location'].value_counts()[listings['smart_location'].value_counts()<=2].index.values.tolist()\n",
    "\n",
    "locs = listings[['latitude','longitude','smart_location']]\n",
    "\n",
    "subs = {}\n",
    "for x in ones:\n",
    "    d0 = locs[locs['smart_location']==x][['latitude','longitude']].values[0]\n",
    "\n",
    "    ix = np.linalg.norm(d0-locs[locs['smart_location']!=x][['latitude','longitude']].values,axis=1).argmin()\n",
    "\n",
    "    subs[x] = locs[locs['smart_location']!=ones[0]].iloc[ix].smart_location\n",
    "def clean_smart_locations(x):\n",
    "    if x in subs.keys():\n",
    "        return subs[x]\n",
    "    else:\n",
    "        return x"
   ]
  },
  {
   "cell_type": "code",
   "execution_count": 447,
   "metadata": {
    "collapsed": false
   },
   "outputs": [],
   "source": [
    "listings['smart_location'] = listings['smart_location'].map(clean_smart_locations)"
   ]
  },
  {
   "cell_type": "code",
   "execution_count": 453,
   "metadata": {
    "collapsed": false
   },
   "outputs": [
    {
     "data": {
      "text/plain": [
       "<matplotlib.axes._subplots.AxesSubplot at 0x7f82ea84bdd8>"
      ]
     },
     "execution_count": 453,
     "metadata": {},
     "output_type": "execute_result"
    },
    {
     "data": {
      "image/png": "[encoded data removed]",
      "text/plain": [
       "<matplotlib.figure.Figure at 0x7f82ea89ce10>"
      ]
     },
     "metadata": {},
     "output_type": "display_data"
    }
   ],
   "source": [
    "listings.groupby('smart_location')['price'].mean().sort_values(ascending=False).ix[:30].plot(kind='bar',figsize=(20,6))"
   ]
  },
  {
   "cell_type": "code",
   "execution_count": 454,
   "metadata": {
    "collapsed": false
   },
   "outputs": [],
   "source": [
    "listings.to_csv('listings_clean.csv')"
   ]
  },
  {
   "cell_type": "code",
   "execution_count": 455,
   "metadata": {
    "collapsed": false
   },
   "outputs": [
    {
     "data": {
      "text/plain": [
       "Index(['id', 'listing_url', 'scrape_id', 'last_scraped', 'name', 'summary',\n",
       "       'space', 'description', 'experiences_offered', 'neighborhood_overview',\n",
       "       'notes', 'transit', 'access', 'interaction', 'house_rules',\n",
       "       'thumbnail_url', 'medium_url', 'picture_url', 'xl_picture_url',\n",
       "       'host_id', 'host_url', 'host_name', 'host_since', 'host_location',\n",
       "       'host_about', 'host_response_time', 'host_response_rate',\n",
       "       'host_is_superhost', 'host_thumbnail_url', 'host_picture_url',\n",
       "       'host_neighbourhood', 'host_listings_count',\n",
       "       'host_total_listings_count', 'host_verifications',\n",
       "       'host_has_profile_pic', 'host_identity_verified', 'street',\n",
       "       'neighbourhood', 'neighbourhood_cleansed', 'city', 'state', 'zipcode',\n",
       "       'market', 'smart_location', 'country_code', 'country', 'latitude',\n",
       "       'longitude', 'is_location_exact', 'property_type', 'room_type',\n",
       "       'accommodates', 'bathrooms', 'bedrooms', 'beds', 'bed_type',\n",
       "       'amenities', 'square_feet', 'price', 'weekly_price', 'monthly_price',\n",
       "       'security_deposit', 'cleaning_fee', 'guests_included', 'extra_people',\n",
       "       'minimum_nights', 'maximum_nights', 'calendar_updated',\n",
       "       'availability_30', 'availability_60', 'availability_90',\n",
       "       'availability_365', 'calendar_last_scraped', 'number_of_reviews',\n",
       "       'first_review', 'last_review', 'review_scores_rating',\n",
       "       'review_scores_accuracy', 'review_scores_cleanliness',\n",
       "       'review_scores_checkin', 'review_scores_communication',\n",
       "       'review_scores_location', 'review_scores_value', 'requires_license',\n",
       "       'license', 'instant_bookable', 'cancellation_policy',\n",
       "       'require_guest_profile_picture', 'require_guest_phone_verification',\n",
       "       'calculated_host_listings_count', 'reviews_per_month', 'qprice'],\n",
       "      dtype='object')"
      ]
     },
     "execution_count": 455,
     "metadata": {},
     "output_type": "execute_result"
    }
   ],
   "source": [
    "listing"
   ]
  },
  {
   "cell_type": "code",
   "execution_count": 465,
   "metadata": {
    "collapsed": false
   },
   "outputs": [
    {
     "data": {
      "text/plain": [
       "scrape_id\n",
       "20170315084710    14858\n",
       "Name: id, dtype: int64"
      ]
     },
     "execution_count": 465,
     "metadata": {},
     "output_type": "execute_result"
    }
   ],
   "source": [
    "listings.groupby('scrape_id')['id'].apply(len).sort_values(ascending=False)"
   ]
  },
  {
   "cell_type": "code",
   "execution_count": 468,
   "metadata": {
    "collapsed": false
   },
   "outputs": [
    {
     "data": {
      "text/plain": [
       "6493                                  Angela\n",
       "3044                                 Richard\n",
       "14242                                Estelle\n",
       "7081                     Top Villas Mallorca\n",
       "4608                                    Loic\n",
       "14435                               Foravila\n",
       "8263             The Freelance-Holidays Team\n",
       "2701     Antoni Mallorca Charme Home Rentals\n",
       "5110                              Anna&Marga\n",
       "7047                                   Franz\n",
       "8301     Maria Rosa & Erika (Rent A Villa Ma\n",
       "5160                 Ideal Property Mallorca\n",
       "5159                     Priority Apartments\n",
       "6417                                   Xisco\n",
       "5066                                Cristina\n",
       "9316                    Nord Villas Pollensa\n",
       "5897                 PlanetVillas Vacaciones\n",
       "652                                  Mathias\n",
       "12857                               Fincahit\n",
       "5702                      Be Breeze Mallorca\n",
       "5367                                    Marc\n",
       "3764                                  Fátima\n",
       "2227                                   María\n",
       "414                       Ben Von Fewollorca\n",
       "7647                                    Jess\n",
       "3330                               MoRentals\n",
       "1073                                   Lucia\n",
       "3719                                    Juan\n",
       "12796                    Pepe Pisos & Villas\n",
       "2748                                   Marit\n",
       "                        ...                 \n",
       "11518                           Cesc And Mar\n",
       "3342                                Conchita\n",
       "1419                           Pasqual Josep\n",
       "11520                                Sanchez\n",
       "8098                             Pep I Xesca\n",
       "11581                                Pauline\n",
       "8007                                 Lizette\n",
       "11628                                Alessia\n",
       "3383                                   Roger\n",
       "11653                                    Elo\n",
       "11651                                  Brian\n",
       "11646                               Maria C.\n",
       "11645                                 Mirtha\n",
       "11642                               Diahanna\n",
       "11619                                 Martha\n",
       "11592                                 Ulises\n",
       "8030                                  Polina\n",
       "11594                                  Tomàs\n",
       "8031                            Víctor Y Luz\n",
       "11588                                Armando\n",
       "3375                                   F@Nny\n",
       "11609                                    Rob\n",
       "8019                       Peter & Esperanza\n",
       "3008                             Anup Narain\n",
       "3530                                Svitlana\n",
       "1484                      Dorothea + Andreas\n",
       "1331                               Stanislav\n",
       "8021                                  Meagan\n",
       "4534                                   Delio\n",
       "13778                                    NaN\n",
       "Name: host_name, dtype: object"
      ]
     },
     "execution_count": 468,
     "metadata": {},
     "output_type": "execute_result"
    }
   ],
   "source": [
    "listings.sort_values('host_listings_count',ascending=False)['host_name'].drop_duplicates()"
   ]
  },
  {
   "cell_type": "code",
   "execution_count": null,
   "metadata": {
    "collapsed": true
   },
   "outputs": [],
   "source": []
  }
 ],
 "metadata": {
  "anaconda-cloud": {},
  "kernelspec": {
   "display_name": "Python [conda root]",
   "language": "python",
   "name": "conda-root-py"
  },
  "language_info": {
   "codemirror_mode": {
    "name": "ipython",
    "version": 3
   },
   "file_extension": ".py",
   "mimetype": "text/x-python",
   "name": "python",
   "nbconvert_exporter": "python",
   "pygments_lexer": "ipython3",
   "version": "3.5.3"
  }
 },
 "nbformat": 4,
 "nbformat_minor": 2
}
